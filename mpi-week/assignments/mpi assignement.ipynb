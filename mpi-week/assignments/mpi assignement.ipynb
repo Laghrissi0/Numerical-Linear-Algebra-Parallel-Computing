{
 "cells": [
  {
   "cell_type": "code",
   "execution_count": null,
   "id": "b33f4e91",
   "metadata": {},
   "outputs": [],
   "source": [
    "! python -m pip install mpi4py"
   ]
  },
  {
   "cell_type": "code",
   "execution_count": null,
   "id": "9c4b8540",
   "metadata": {},
   "outputs": [],
   "source": [
    "from mpi4py import MPI"
   ]
  },
  {
   "cell_type": "code",
   "execution_count": null,
   "id": "6480afb9",
   "metadata": {},
   "outputs": [],
   "source": [
    "%%writefile week2.py\n",
    "\n",
    "COMM = MPI.COMM_WORLD\n",
    "RANK = COMM.Get_rank()\n",
    "SIZE = COMM.Get_size()"
   ]
  },
  {
   "cell_type": "markdown",
   "id": "d74949e4",
   "metadata": {},
   "source": [
    "###  Exercise 1"
   ]
  },
  {
   "cell_type": "code",
   "execution_count": null,
   "id": "e6effc3d",
   "metadata": {},
   "outputs": [],
   "source": [
    "COMM = MPI.COMM_WORLD\n",
    "RANK = COMM.Get_rank()\n",
    "SIZE = COMM.Get_size()\n",
    "def f1():\n",
    "    return print(\"Hello world\")\n",
    "\n",
    "def f2():\n",
    "    return print(\"my rank is\",RANK,\"the total number of processors is :\",SIZE)\n",
    "\n",
    "def f3():\n",
    "    if RANK==0:\n",
    "        return print(\"my rank is : \",RANK,\"my size is :\",SIZE)\n",
    "\n",
    "#4: we have to use MPI_FINALIZE to terminate the computation."
   ]
  },
  {
   "cell_type": "markdown",
   "id": "af3a2588",
   "metadata": {},
   "source": [
    "### Exercise 2"
   ]
  },
  {
   "cell_type": "code",
   "execution_count": null,
   "id": "be1ad2a9",
   "metadata": {},
   "outputs": [],
   "source": [
    "COMM = MPI.COMM_WORLD\n",
    "RANK = COMM.Get_rank()\n",
    "SIZE = COMM.Get_size()\n",
    "while True:\n",
    "    if RANK == 0:\n",
    "        x = int(input())\n",
    "    else: \n",
    "        x = None\n",
    "\n",
    "        x = COMM.bcast(x)\n",
    "    if x< 0 :\n",
    "        break\n",
    "    print(\"rank is\", rank,\"data\",data)"
   ]
  },
  {
   "cell_type": "markdown",
   "id": "079a48cb",
   "metadata": {},
   "source": [
    "### Exercise 3"
   ]
  },
  {
   "cell_type": "code",
   "execution_count": null,
   "id": "b491c5b8",
   "metadata": {},
   "outputs": [],
   "source": [
    "COMM = MPI.COMM_WORLD\n",
    "RANK = COMM.Get_rank()\n",
    "SIZE = COMM.Get_size()\n",
    "while (1):\n",
    "    if RANK == 0:\n",
    "        x = int(input())\n",
    "        except ValueError:\n",
    "            print(\"No integer entered\")\n",
    "            x = -1\n",
    "        COMM.send(x,RANK+1)\n",
    "    else : \n",
    "        x = COMM.recv(source = RANK-1)\n",
    "        if RANK < SIZE - 1:\n",
    "            if x < 0 : \n",
    "                x-=RANK \n",
    "                COMM.send(x +RANK, RANK+1)\n",
    "    if x<0:\n",
    "        break\n",
    "    print(\"rank is\", rank,\"data\",x)"
   ]
  },
  {
   "cell_type": "markdown",
   "id": "e2d9fe84",
   "metadata": {},
   "source": [
    "###  Exercise 4"
   ]
  },
  {
   "cell_type": "code",
   "execution_count": null,
   "id": "ef530266",
   "metadata": {},
   "outputs": [],
   "source": [
    "COMM = MPI.COMM_WORLD\n",
    "RANK = COMM.Get_rank()\n",
    "SIZE = COMM.Get_size()\n",
    "\n",
    "#1\n",
    "n,m = int(input())\n",
    "if rank == 0:\n",
    "    A = np.random.rand(n, m)\n",
    "else:\n",
    "    A = None\n",
    "A = COMM.bcast(A, root=0)\n",
    "print(\"Rank of the matrix A is\",RANK )\n",
    "\n",
    "\n",
    "#2 \n",
    "counts = [n // SIZE] * SIZE\n",
    "remainder = n % SIZE\n",
    "for i in range(remainder):\n",
    "    counts[i] += 1\n",
    "displs = [sum(counts[:i]) for i in range(SIZE)]\n",
    "recv_buf = np.empty((counts[RANK], m), dtype=np.float64)\n",
    "comm.Scatterv([A, counts, displs, MPI.DOUBLE], recv_buf, root=0)\n",
    "\n",
    "\n",
    "#3,4,5\n",
    "# calculate the number of rows to send to each processor\n",
    "counts = [n // 2, n // 2, (n // 2) + (n % 2), (n // 2) + (n % 2)]\n",
    "displs_1 = [0, m * (n // 2), m * ((n // 2) + (n % 2)), m * (n // 2) + (m // 2)]\n",
    "\n",
    "blocklen = m // 2\n",
    "stride = m\n",
    "subarray_type = MPI.DOUBLE.Create_subarray((n, m), (counts[RANK], blocklen), (displs_1[RANK] // m, stride))\n",
    "subarray_type.Commit()\n",
    "\n",
    "if RANK == 0:\n",
    "    COMM.Send([A, 1, subarray_type], dest=1)\n",
    "    COMM.Send([A, 2, subarray_type], dest=2)\n",
    "    COMM.Send([A, 3, subarray_type], dest=3)\n",
    "elif RANK in (1, 2, 3):\n",
    "    COMM.Recv(recv_buf, source=0)\n",
    "\n",
    "# print the part of the matrix received by each processor\n",
    "if RANK in (1, 2, 3):\n",
    "    print(\"Rank\",RANK,\" Matrix A received:\" , str(recv_buf))"
   ]
  },
  {
   "cell_type": "markdown",
   "id": "5937a7bf",
   "metadata": {},
   "source": [
    "###  Exercise 5"
   ]
  },
  {
   "cell_type": "code",
   "execution_count": null,
   "id": "f8cd1030",
   "metadata": {},
   "outputs": [],
   "source": [
    "# in MatrixVectorMult.py file"
   ]
  },
  {
   "cell_type": "markdown",
   "id": "76c31ae1",
   "metadata": {},
   "source": [
    "###  Exercise 6"
   ]
  },
  {
   "cell_type": "code",
   "execution_count": 5,
   "id": "60cfea6a",
   "metadata": {},
   "outputs": [
    {
     "name": "stdout",
     "output_type": "stream",
     "text": [
      "Collecting pyccel\n",
      "  Downloading pyccel-1.7.3-py3-none-any.whl (383 kB)\n",
      "     -------------------------------------- 383.4/383.4 kB 3.4 MB/s eta 0:00:00\n",
      "Requirement already satisfied: sympy>=1.2 in c:\\users\\lenovo\\anaconda3\\lib\\site-packages (from pyccel) (1.10.1)\n",
      "Collecting textx>=2.2\n",
      "  Downloading textX-3.1.1-py2.py3-none-any.whl (67 kB)\n",
      "     ---------------------------------------- 67.8/67.8 kB 1.9 MB/s eta 0:00:00\n",
      "Collecting termcolor>=1.0.0\n",
      "  Downloading termcolor-2.2.0-py3-none-any.whl (6.6 kB)\n",
      "Requirement already satisfied: numpy>=1.16 in c:\\users\\lenovo\\anaconda3\\lib\\site-packages (from pyccel) (1.21.5)\n",
      "Requirement already satisfied: filelock>=3.4.0 in c:\\users\\lenovo\\anaconda3\\lib\\site-packages (from pyccel) (3.6.0)\n",
      "Requirement already satisfied: mpmath>=0.19 in c:\\users\\lenovo\\anaconda3\\lib\\site-packages (from sympy>=1.2->pyccel) (1.2.1)\n",
      "Collecting Arpeggio>=2.0.0\n",
      "  Downloading Arpeggio-2.0.0-py2.py3-none-any.whl (54 kB)\n",
      "     ---------------------------------------- 55.0/55.0 kB 3.0 MB/s eta 0:00:00\n",
      "Installing collected packages: Arpeggio, textx, termcolor, pyccel\n",
      "Successfully installed Arpeggio-2.0.0 pyccel-1.7.3 termcolor-2.2.0 textx-3.1.1\n"
     ]
    }
   ],
   "source": [
    "!pip install pyccel"
   ]
  },
  {
   "cell_type": "code",
   "execution_count": 7,
   "id": "a70c88ed",
   "metadata": {},
   "outputs": [
    {
     "name": "stdout",
     "output_type": "stream",
     "text": [
      "Overwriting pi_.py\n"
     ]
    }
   ],
   "source": [
    "%%file pi_.py\n",
    "def f(a):\n",
    "    return 4.0 / (1. + a * a)\n",
    "\n",
    "def pi(n, h):\n",
    "#     print(\"Execution of PI in parallel with\", nb_tasks,\"threads\")\n",
    "\n",
    "    for k in range(100):\n",
    "        Pi_calc = 0.\n",
    "        for i in range(n):\n",
    "            x = h * (i + 0.5)\n",
    "            Pi_calc += f(x)\n",
    "\n",
    "        Pi_calc = h * Pi_calc\n",
    "    return Pi_calc"
   ]
  },
  {
   "cell_type": "code",
   "execution_count": 10,
   "id": "fbb51fba",
   "metadata": {},
   "outputs": [
    {
     "name": "stdout",
     "output_type": "stream",
     "text": [
      "\n",
      "ERROR at annotation (semantic) stage\n",
      "pyccel:\n",
      " |error [semantic]: mod_zz3xb5nnsqzt_zz3xb5nnsqzt.py [1]| Function is missing a type annotation (pi)\n",
      " |fatal [semantic]: mod_zz3xb5nnsqzt_zz3xb5nnsqzt.py [6,17]| Undefined variable (n)\n",
      "\n"
     ]
    },
    {
     "ename": "PyccelSemanticError",
     "evalue": "Semantic step failed",
     "output_type": "error",
     "traceback": [
      "\u001b[1;31m---------------------------------------------------------------------------\u001b[0m",
      "\u001b[1;31mPyccelSemanticError\u001b[0m                       Traceback (most recent call last)",
      "\u001b[1;32m~\\AppData\\Local\\Temp\\ipykernel_10056\\2459308617.py\u001b[0m in \u001b[0;36m<module>\u001b[1;34m\u001b[0m\n\u001b[0;32m      6\u001b[0m     \u001b[1;32mfrom\u001b[0m \u001b[0mpyccel\u001b[0m\u001b[1;33m.\u001b[0m\u001b[0mepyccel\u001b[0m \u001b[1;32mimport\u001b[0m \u001b[0mepyccel\u001b[0m\u001b[1;33m\u001b[0m\u001b[1;33m\u001b[0m\u001b[0m\n\u001b[0;32m      7\u001b[0m \u001b[1;33m\u001b[0m\u001b[0m\n\u001b[1;32m----> 8\u001b[1;33m     \u001b[0mpyc_pi\u001b[0m \u001b[1;33m=\u001b[0m \u001b[0mepyccel\u001b[0m\u001b[1;33m(\u001b[0m\u001b[0mpi\u001b[0m\u001b[1;33m,\u001b[0m \u001b[0mlanguage\u001b[0m\u001b[1;33m=\u001b[0m\u001b[1;34m'c'\u001b[0m\u001b[1;33m,\u001b[0m \u001b[0maccelerators\u001b[0m\u001b[1;33m=\u001b[0m\u001b[1;33m[\u001b[0m\u001b[1;34m'openmp'\u001b[0m\u001b[1;33m]\u001b[0m\u001b[1;33m)\u001b[0m\u001b[1;33m\u001b[0m\u001b[1;33m\u001b[0m\u001b[0m\n\u001b[0m\u001b[0;32m      9\u001b[0m     \u001b[1;31m# start timing\u001b[0m\u001b[1;33m\u001b[0m\u001b[1;33m\u001b[0m\u001b[0m\n\u001b[0;32m     10\u001b[0m     \u001b[0mtcpu_0\u001b[0m \u001b[1;33m=\u001b[0m \u001b[0mtime\u001b[0m\u001b[1;33m.\u001b[0m\u001b[0mprocess_time\u001b[0m\u001b[1;33m(\u001b[0m\u001b[1;33m)\u001b[0m \u001b[1;31m# CPU time\u001b[0m\u001b[1;33m\u001b[0m\u001b[1;33m\u001b[0m\u001b[0m\n",
      "\u001b[1;32m~\\anaconda3\\lib\\site-packages\\pyccel\\epyccel.py\u001b[0m in \u001b[0;36mepyccel\u001b[1;34m(python_function_or_module, **kwargs)\u001b[0m\n\u001b[0;32m    331\u001b[0m     \u001b[1;31m# Serial version\u001b[0m\u001b[1;33m\u001b[0m\u001b[1;33m\u001b[0m\u001b[0m\n\u001b[0;32m    332\u001b[0m     \u001b[1;32melse\u001b[0m\u001b[1;33m:\u001b[0m\u001b[1;33m\u001b[0m\u001b[1;33m\u001b[0m\u001b[0m\n\u001b[1;32m--> 333\u001b[1;33m         \u001b[0mmod\u001b[0m\u001b[1;33m,\u001b[0m \u001b[0mfun\u001b[0m \u001b[1;33m=\u001b[0m \u001b[0mepyccel_seq\u001b[0m\u001b[1;33m(\u001b[0m \u001b[0mpython_function_or_module\u001b[0m\u001b[1;33m,\u001b[0m \u001b[1;33m**\u001b[0m\u001b[0mkwargs\u001b[0m \u001b[1;33m)\u001b[0m\u001b[1;33m\u001b[0m\u001b[1;33m\u001b[0m\u001b[0m\n\u001b[0m\u001b[0;32m    334\u001b[0m \u001b[1;33m\u001b[0m\u001b[0m\n\u001b[0;32m    335\u001b[0m     \u001b[1;31m# Return Fortran function (if any), otherwise module\u001b[0m\u001b[1;33m\u001b[0m\u001b[1;33m\u001b[0m\u001b[0m\n",
      "\u001b[1;32m~\\anaconda3\\lib\\site-packages\\pyccel\\epyccel.py\u001b[0m in \u001b[0;36mepyccel_seq\u001b[1;34m(function_or_module, language, compiler, fflags, wrapper_flags, accelerators, verbose, debug, includes, libdirs, modules, libs, folder)\u001b[0m\n\u001b[0;32m    166\u001b[0m         \u001b[1;32mtry\u001b[0m\u001b[1;33m:\u001b[0m\u001b[1;33m\u001b[0m\u001b[1;33m\u001b[0m\u001b[0m\n\u001b[0;32m    167\u001b[0m             \u001b[1;31m# Generate shared library\u001b[0m\u001b[1;33m\u001b[0m\u001b[1;33m\u001b[0m\u001b[0m\n\u001b[1;32m--> 168\u001b[1;33m             execute_pyccel(pymod_filename,\n\u001b[0m\u001b[0;32m    169\u001b[0m                            \u001b[0mverbose\u001b[0m       \u001b[1;33m=\u001b[0m \u001b[0mverbose\u001b[0m\u001b[1;33m,\u001b[0m\u001b[1;33m\u001b[0m\u001b[1;33m\u001b[0m\u001b[0m\n\u001b[0;32m    170\u001b[0m                            \u001b[0mlanguage\u001b[0m      \u001b[1;33m=\u001b[0m \u001b[0mlanguage\u001b[0m\u001b[1;33m,\u001b[0m\u001b[1;33m\u001b[0m\u001b[1;33m\u001b[0m\u001b[0m\n",
      "\u001b[1;32m~\\anaconda3\\lib\\site-packages\\pyccel\\codegen\\pipeline.py\u001b[0m in \u001b[0;36mexecute_pyccel\u001b[1;34m(fname, syntax_only, semantic_only, convert_only, verbose, folder, language, compiler, fflags, wrapper_flags, includes, libdirs, modules, libs, debug, accelerators, output_name, compiler_export_file)\u001b[0m\n\u001b[0;32m    244\u001b[0m         \u001b[0mhandle_error\u001b[0m\u001b[1;33m(\u001b[0m\u001b[1;34m'annotation (semantic)'\u001b[0m\u001b[1;33m)\u001b[0m\u001b[1;33m\u001b[0m\u001b[1;33m\u001b[0m\u001b[0m\n\u001b[0;32m    245\u001b[0m         \u001b[1;31m# Raise a new error to avoid a large traceback\u001b[0m\u001b[1;33m\u001b[0m\u001b[1;33m\u001b[0m\u001b[0m\n\u001b[1;32m--> 246\u001b[1;33m         \u001b[1;32mraise\u001b[0m \u001b[0mPyccelSemanticError\u001b[0m\u001b[1;33m(\u001b[0m\u001b[1;34m'Semantic step failed'\u001b[0m\u001b[1;33m)\u001b[0m \u001b[1;32mfrom\u001b[0m \u001b[1;32mNone\u001b[0m\u001b[1;33m\u001b[0m\u001b[1;33m\u001b[0m\u001b[0m\n\u001b[0m\u001b[0;32m    247\u001b[0m \u001b[1;33m\u001b[0m\u001b[0m\n\u001b[0;32m    248\u001b[0m     \u001b[1;32mif\u001b[0m \u001b[0merrors\u001b[0m\u001b[1;33m.\u001b[0m\u001b[0mhas_errors\u001b[0m\u001b[1;33m(\u001b[0m\u001b[1;33m)\u001b[0m\u001b[1;33m:\u001b[0m\u001b[1;33m\u001b[0m\u001b[1;33m\u001b[0m\u001b[0m\n",
      "\u001b[1;31mPyccelSemanticError\u001b[0m: Semantic step failed"
     ]
    }
   ],
   "source": [
    "from pi_ import *\n",
    "import time, math\n",
    "if __name__ == '__main__':\n",
    "    n = 300\n",
    "    h = 1.0 / n\n",
    "    from pyccel.epyccel import epyccel\n",
    "    \n",
    "    pyc_pi = epyccel(pi, language='c', accelerators=['openmp'])\n",
    "    # start timing\n",
    "    tcpu_0 = time.process_time() # CPU time\n",
    "    t_elapsed_0 = time.time()    # Wall time\n",
    "    Pi_calc = pyc_pi.pi(n, h)\n",
    "    # CPU time spent\n",
    "    tcpu_1 = time.process_time()\n",
    "    tcpu = tcpu_1 - tcpu_0\n",
    "    # Wall time spent\n",
    "    t_elapsed_1 = time.time()\n",
    "    t_elapsed = t_elapsed_1 - t_elapsed_0\n",
    "    # deviation between the estimated value and the calculated value of Pi\n",
    "    Pi_estime = math.acos(-1)\n",
    "    deviat = math.fabs(Pi_estime - Pi_calc)"
   ]
  },
  {
   "cell_type": "markdown",
   "id": "fedc38ee",
   "metadata": {},
   "source": [
    "#### print the results"
   ]
  },
  {
   "cell_type": "code",
   "execution_count": 11,
   "id": "1124c5b2",
   "metadata": {},
   "outputs": [
    {
     "ename": "NameError",
     "evalue": "name 'deviat' is not defined",
     "output_type": "error",
     "traceback": [
      "\u001b[1;31m---------------------------------------------------------------------------\u001b[0m",
      "\u001b[1;31mNameError\u001b[0m                                 Traceback (most recent call last)",
      "\u001b[1;32m~\\AppData\\Local\\Temp\\ipykernel_10056\\2678491512.py\u001b[0m in \u001b[0;36m<module>\u001b[1;34m\u001b[0m\n\u001b[0;32m      1\u001b[0m print(\n\u001b[0;32m      2\u001b[0m   \u001b[1;34m\"   Number of intervals        :\"\u001b[0m\u001b[1;33m,\u001b[0m \u001b[0mn\u001b[0m\u001b[1;33m,\u001b[0m         \u001b[1;34m\"\\n\"\u001b[0m\u001b[1;33m,\u001b[0m\u001b[1;33m\u001b[0m\u001b[1;33m\u001b[0m\u001b[0m\n\u001b[1;32m----> 3\u001b[1;33m           \u001b[1;34m\"   | Pi_estime - Pi_calcule | :\"\u001b[0m\u001b[1;33m,\u001b[0m \u001b[0mdeviat\u001b[0m\u001b[1;33m,\u001b[0m    \u001b[1;34m\"\\n\"\u001b[0m\u001b[1;33m,\u001b[0m\u001b[1;33m\u001b[0m\u001b[1;33m\u001b[0m\u001b[0m\n\u001b[0m\u001b[0;32m      4\u001b[0m           \u001b[1;34m\"   Temps elapsed              :\"\u001b[0m\u001b[1;33m,\u001b[0m \u001b[0mt_elapsed\u001b[0m\u001b[1;33m,\u001b[0m \u001b[1;34m\"\\n\"\u001b[0m\u001b[1;33m,\u001b[0m\u001b[1;33m\u001b[0m\u001b[1;33m\u001b[0m\u001b[0m\n\u001b[0;32m      5\u001b[0m           \u001b[1;34m\"   Temps CPU                  :\"\u001b[0m\u001b[1;33m,\u001b[0m \u001b[0mtcpu\u001b[0m\u001b[1;33m,\u001b[0m      \u001b[1;34m\"\\n\"\u001b[0m\u001b[1;33m,\u001b[0m\u001b[1;33m\u001b[0m\u001b[1;33m\u001b[0m\u001b[0m\n",
      "\u001b[1;31mNameError\u001b[0m: name 'deviat' is not defined"
     ]
    }
   ],
   "source": [
    "    print(\n",
    "      \"   Number of intervals        :\", n,         \"\\n\",\n",
    "\t  \"   | Pi_estime - Pi_calcule | :\", deviat,    \"\\n\",\n",
    "\t  \"   Temps elapsed              :\", t_elapsed, \"\\n\",\n",
    "\t  \"   Temps CPU                  :\", tcpu,      \"\\n\",\n",
    "    )"
   ]
  },
  {
   "cell_type": "code",
   "execution_count": null,
   "id": "6bc3ff77",
   "metadata": {},
   "outputs": [],
   "source": []
  }
 ],
 "metadata": {
  "kernelspec": {
   "display_name": "Python 3 (ipykernel)",
   "language": "python",
   "name": "python3"
  },
  "language_info": {
   "codemirror_mode": {
    "name": "ipython",
    "version": 3
   },
   "file_extension": ".py",
   "mimetype": "text/x-python",
   "name": "python",
   "nbconvert_exporter": "python",
   "pygments_lexer": "ipython3",
   "version": "3.9.13"
  }
 },
 "nbformat": 4,
 "nbformat_minor": 5
}
