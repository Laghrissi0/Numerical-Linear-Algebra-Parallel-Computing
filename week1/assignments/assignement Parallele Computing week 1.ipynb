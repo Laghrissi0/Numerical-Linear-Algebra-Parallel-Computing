{
 "cells": [
  {
   "cell_type": "code",
   "execution_count": 1,
   "id": "abcd3c49",
   "metadata": {},
   "outputs": [],
   "source": [
    "import time"
   ]
  },
  {
   "cell_type": "code",
   "execution_count": 10,
   "id": "216e0b72",
   "metadata": {},
   "outputs": [],
   "source": [
    "### INTRODUCTION"
   ]
  },
  {
   "cell_type": "code",
   "execution_count": 2,
   "id": "eeabe8f2",
   "metadata": {},
   "outputs": [],
   "source": [
    "def count_divisors1(n):\n",
    "    count = 0\n",
    "    d = 1\n",
    "    while d <= n:\n",
    "        if n % d == 0:\n",
    "            count += 1\n",
    "        d += 1\n",
    "    return count"
   ]
  },
  {
   "cell_type": "code",
   "execution_count": 3,
   "id": "9b617c5f",
   "metadata": {},
   "outputs": [],
   "source": [
    "def count_divisors2(n):\n",
    "    count = 0\n",
    "    d = 1\n",
    "    while d*d < n:\n",
    "        if n % d == 0:\n",
    "            count += 1 if n/d == d else 2\n",
    "        d += 1\n",
    "    return count"
   ]
  },
  {
   "cell_type": "code",
   "execution_count": null,
   "id": "b75c5583",
   "metadata": {},
   "outputs": [],
   "source": []
  },
  {
   "cell_type": "code",
   "execution_count": 4,
   "id": "4ed6fec0",
   "metadata": {},
   "outputs": [
    {
     "name": "stdout",
     "output_type": "stream",
     "text": [
      "         4 function calls in 3.692 seconds\n",
      "\n",
      "   Ordered by: standard name\n",
      "\n",
      "   ncalls  tottime  percall  cumtime  percall filename:lineno(function)\n",
      "        1    3.691    3.691    3.691    3.691 1547233354.py:1(count_divisors1)\n",
      "        1    0.000    0.000    3.691    3.691 <string>:1(<module>)\n",
      "        1    0.000    0.000    3.692    3.692 {built-in method builtins.exec}\n",
      "        1    0.000    0.000    0.000    0.000 {method 'disable' of '_lsprof.Profiler' objects}\n",
      "\n",
      "\n"
     ]
    }
   ],
   "source": [
    "import cProfile\n",
    "\n",
    "cProfile.run('count_divisors1(10000000)')"
   ]
  },
  {
   "cell_type": "code",
   "execution_count": 5,
   "id": "27f7b912",
   "metadata": {},
   "outputs": [
    {
     "name": "stdout",
     "output_type": "stream",
     "text": [
      "         4 function calls in 0.002 seconds\n",
      "\n",
      "   Ordered by: standard name\n",
      "\n",
      "   ncalls  tottime  percall  cumtime  percall filename:lineno(function)\n",
      "        1    0.002    0.002    0.002    0.002 1197523567.py:1(count_divisors2)\n",
      "        1    0.000    0.000    0.002    0.002 <string>:1(<module>)\n",
      "        1    0.000    0.000    0.002    0.002 {built-in method builtins.exec}\n",
      "        1    0.000    0.000    0.000    0.000 {method 'disable' of '_lsprof.Profiler' objects}\n",
      "\n",
      "\n"
     ]
    }
   ],
   "source": [
    "cProfile.run('count_divisors2(10000000)')"
   ]
  },
  {
   "cell_type": "code",
   "execution_count": 7,
   "id": "b99d0f93",
   "metadata": {},
   "outputs": [],
   "source": [
    "### MERGE SORT PART"
   ]
  },
  {
   "cell_type": "code",
   "execution_count": 6,
   "id": "f01aab26",
   "metadata": {},
   "outputs": [],
   "source": [
    "def merge(A, B):\n",
    "    C= []\n",
    "    i = 0\n",
    "    j = 0\n",
    "    \n",
    "    while i < len(A) and j < len(B):\n",
    "        if A[i] < B[j]:\n",
    "            C.append(A[i])\n",
    "            i += 1\n",
    "        else:\n",
    "            C.append(B[j])\n",
    "            j += 1\n",
    "\n",
    "    C += A[i:]\n",
    "    C += B[j:]\n",
    "    \n",
    "    return C"
   ]
  },
  {
   "cell_type": "code",
   "execution_count": 8,
   "id": "f8d1fa4c",
   "metadata": {},
   "outputs": [],
   "source": [
    "A = [1,3,6]\n",
    "B =[2,4,5]"
   ]
  },
  {
   "cell_type": "code",
   "execution_count": 9,
   "id": "a62dcdef",
   "metadata": {},
   "outputs": [
    {
     "data": {
      "text/plain": [
       "[1, 2, 3, 4, 5, 6]"
      ]
     },
     "execution_count": 9,
     "metadata": {},
     "output_type": "execute_result"
    }
   ],
   "source": [
    "merge(A,B)"
   ]
  },
  {
   "cell_type": "code",
   "execution_count": null,
   "id": "735f076a",
   "metadata": {},
   "outputs": [],
   "source": [
    "## the other programs i wrote them in the pdf especially those with c language"
   ]
  }
 ],
 "metadata": {
  "kernelspec": {
   "display_name": "Python 3 (ipykernel)",
   "language": "python",
   "name": "python3"
  },
  "language_info": {
   "codemirror_mode": {
    "name": "ipython",
    "version": 3
   },
   "file_extension": ".py",
   "mimetype": "text/x-python",
   "name": "python",
   "nbconvert_exporter": "python",
   "pygments_lexer": "ipython3",
   "version": "3.9.13"
  }
 },
 "nbformat": 4,
 "nbformat_minor": 5
}
