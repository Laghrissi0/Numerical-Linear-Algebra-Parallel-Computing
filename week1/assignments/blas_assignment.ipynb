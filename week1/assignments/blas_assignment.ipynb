{
 "cells": [
  {
   "cell_type": "markdown",
   "id": "c1128903",
   "metadata": {},
   "source": [
    "# BLAS ASSIGNMENT"
   ]
  },
  {
   "cell_type": "markdown",
   "id": "26afb58d",
   "metadata": {},
   "source": [
    "Use the cell below for all your imports."
   ]
  },
  {
   "cell_type": "code",
   "execution_count": 1,
   "id": "7d2134c7",
   "metadata": {},
   "outputs": [
    {
     "name": "stdout",
     "output_type": "stream",
     "text": [
      "Collecting package metadata (current_repodata.json): ...working... done\n",
      "Solving environment: ...working... done\n",
      "\n",
      "## Package Plan ##\n",
      "\n",
      "  environment location: C:\\Users\\lenovo\\anaconda3\n",
      "\n",
      "  added / updated specs:\n",
      "    - lapack\n",
      "\n",
      "\n",
      "The following packages will be UPDATED:\n",
      "\n",
      "  lapack             conda-forge/label/cf202003::lapack-3.~ --> conda-forge::lapack-3.9.0-netlib \n",
      "\n",
      "\n",
      "\n",
      "Downloading and Extracting Packages\n",
      "\n",
      "\n",
      "Preparing transaction: ...working... done\n",
      "Verifying transaction: ...working... done\n",
      "Executing transaction: ...working... done\n",
      "\n",
      "Note: you may need to restart the kernel to use updated packages.\n"
     ]
    }
   ],
   "source": [
    "#conda install -c conda-forge lapack"
   ]
  },
  {
   "cell_type": "code",
   "execution_count": 2,
   "id": "414dd777",
   "metadata": {},
   "outputs": [
    {
     "name": "stdout",
     "output_type": "stream",
     "text": [
      "Collecting package metadata (current_repodata.json): ...working... done\n",
      "Solving environment: ...working... done\n",
      "\n",
      "## Package Plan ##\n",
      "\n",
      "  environment location: C:\\Users\\lenovo\\anaconda3\n",
      "\n",
      "  added / updated specs:\n",
      "    - lapack\n",
      "\n",
      "\n",
      "The following packages will be downloaded:\n",
      "\n",
      "    package                    |            build\n",
      "    ---------------------------|-----------------\n",
      "    lapack-3.6.1               |       h8933c1f_2         3.0 MB  conda-forge/label/cf201901\n",
      "    ------------------------------------------------------------\n",
      "                                           Total:         3.0 MB\n",
      "\n",
      "The following packages will be SUPERSEDED by a higher-priority channel:\n",
      "\n",
      "  lapack                   conda-forge::lapack-3.9.0-netlib --> conda-forge/label/cf201901::lapack-3.6.1-h8933c1f_2 \n",
      "\n",
      "\n",
      "\n",
      "Downloading and Extracting Packages\n",
      "\n",
      "lapack-3.6.1         | 3.0 MB    |            |   0% \n",
      "lapack-3.6.1         | 3.0 MB    |            |   1% \n",
      "lapack-3.6.1         | 3.0 MB    | 1          |   1% \n",
      "lapack-3.6.1         | 3.0 MB    | 2          |   2% \n",
      "lapack-3.6.1         | 3.0 MB    | 4          |   5% \n",
      "lapack-3.6.1         | 3.0 MB    | 8          |   8% \n",
      "lapack-3.6.1         | 3.0 MB    | #3         |  13% \n",
      "lapack-3.6.1         | 3.0 MB    | #9         |  19% \n",
      "lapack-3.6.1         | 3.0 MB    | ##3        |  23% \n",
      "lapack-3.6.1         | 3.0 MB    | ##7        |  28% \n",
      "lapack-3.6.1         | 3.0 MB    | ###2       |  33% \n",
      "lapack-3.6.1         | 3.0 MB    | ###6       |  37% \n",
      "lapack-3.6.1         | 3.0 MB    | ####1      |  42% \n",
      "lapack-3.6.1         | 3.0 MB    | ####6      |  46% \n",
      "lapack-3.6.1         | 3.0 MB    | #####      |  50% \n",
      "lapack-3.6.1         | 3.0 MB    | #####5     |  55% \n",
      "lapack-3.6.1         | 3.0 MB    | #####9     |  59% \n",
      "lapack-3.6.1         | 3.0 MB    | ######3    |  63% \n",
      "lapack-3.6.1         | 3.0 MB    | ######8    |  68% \n",
      "lapack-3.6.1         | 3.0 MB    | #######3   |  74% \n",
      "lapack-3.6.1         | 3.0 MB    | #######8   |  79% \n",
      "lapack-3.6.1         | 3.0 MB    | ########3  |  83% \n",
      "lapack-3.6.1         | 3.0 MB    | ########7  |  87% \n",
      "lapack-3.6.1         | 3.0 MB    | #########2 |  92% \n",
      "lapack-3.6.1         | 3.0 MB    | #########6 |  96% \n",
      "lapack-3.6.1         | 3.0 MB    | ########## | 100% \n",
      "                                                     \n",
      "\n",
      "\n",
      "Preparing transaction: ...working... done\n",
      "Verifying transaction: ...working... done\n",
      "Executing transaction: ...working... done\n",
      "\n",
      "Note: you may need to restart the kernel to use updated packages.\n"
     ]
    }
   ],
   "source": [
    "#conda install -c \"conda-forge/label/cf201901\" lapack"
   ]
  },
  {
   "cell_type": "code",
   "execution_count": 3,
   "id": "adfe8c5b",
   "metadata": {},
   "outputs": [
    {
     "name": "stdout",
     "output_type": "stream",
     "text": [
      "Collecting package metadata (current_repodata.json): ...working... done\n",
      "Solving environment: ...working... done\n",
      "\n",
      "## Package Plan ##\n",
      "\n",
      "  environment location: C:\\Users\\lenovo\\anaconda3\n",
      "\n",
      "  added / updated specs:\n",
      "    - lapack\n",
      "\n",
      "\n",
      "The following packages will be downloaded:\n",
      "\n",
      "    package                    |            build\n",
      "    ---------------------------|-----------------\n",
      "    lapack-3.6.1               |       h8933c1f_2         3.0 MB  conda-forge/label/cf202003\n",
      "    ------------------------------------------------------------\n",
      "                                           Total:         3.0 MB\n",
      "\n",
      "The following packages will be SUPERSEDED by a higher-priority channel:\n",
      "\n",
      "  lapack                         conda-forge/label/cf201901 --> conda-forge/label/cf202003 \n",
      "\n",
      "\n",
      "\n",
      "Downloading and Extracting Packages\n",
      "\n",
      "lapack-3.6.1         | 3.0 MB    |            |   0% \n",
      "lapack-3.6.1         | 3.0 MB    |            |   1% \n",
      "lapack-3.6.1         | 3.0 MB    | 1          |   1% \n",
      "lapack-3.6.1         | 3.0 MB    | 2          |   2% \n",
      "lapack-3.6.1         | 3.0 MB    | 4          |   4% \n",
      "lapack-3.6.1         | 3.0 MB    | 5          |   6% \n",
      "lapack-3.6.1         | 3.0 MB    | 8          |   8% \n",
      "lapack-3.6.1         | 3.0 MB    | 9          |  10% \n",
      "lapack-3.6.1         | 3.0 MB    | #2         |  12% \n",
      "lapack-3.6.1         | 3.0 MB    | #4         |  15% \n",
      "lapack-3.6.1         | 3.0 MB    | #6         |  16% \n",
      "lapack-3.6.1         | 3.0 MB    | #8         |  18% \n",
      "lapack-3.6.1         | 3.0 MB    | ##         |  20% \n",
      "lapack-3.6.1         | 3.0 MB    | ##2        |  22% \n",
      "lapack-3.6.1         | 3.0 MB    | ##4        |  25% \n",
      "lapack-3.6.1         | 3.0 MB    | ##7        |  27% \n",
      "lapack-3.6.1         | 3.0 MB    | ##8        |  29% \n",
      "lapack-3.6.1         | 3.0 MB    | ##9        |  30% \n",
      "lapack-3.6.1         | 3.0 MB    | ###        |  31% \n",
      "lapack-3.6.1         | 3.0 MB    | ###1       |  31% \n",
      "lapack-3.6.1         | 3.0 MB    | ###3       |  33% \n",
      "lapack-3.6.1         | 3.0 MB    | ###5       |  35% \n",
      "lapack-3.6.1         | 3.0 MB    | ###7       |  37% \n",
      "lapack-3.6.1         | 3.0 MB    | ###9       |  40% \n",
      "lapack-3.6.1         | 3.0 MB    | ####1      |  41% \n",
      "lapack-3.6.1         | 3.0 MB    | ####3      |  43% \n",
      "lapack-3.6.1         | 3.0 MB    | ####5      |  45% \n",
      "lapack-3.6.1         | 3.0 MB    | ####7      |  47% \n",
      "lapack-3.6.1         | 3.0 MB    | ####9      |  50% \n",
      "lapack-3.6.1         | 3.0 MB    | #####1     |  52% \n",
      "lapack-3.6.1         | 3.0 MB    | #####3     |  54% \n",
      "lapack-3.6.1         | 3.0 MB    | #####5     |  56% \n",
      "lapack-3.6.1         | 3.0 MB    | #####7     |  58% \n",
      "lapack-3.6.1         | 3.0 MB    | #####9     |  60% \n",
      "lapack-3.6.1         | 3.0 MB    | ######1    |  62% \n",
      "lapack-3.6.1         | 3.0 MB    | ######4    |  64% \n",
      "lapack-3.6.1         | 3.0 MB    | ######5    |  66% \n",
      "lapack-3.6.1         | 3.0 MB    | ######8    |  68% \n",
      "lapack-3.6.1         | 3.0 MB    | #######    |  70% \n",
      "lapack-3.6.1         | 3.0 MB    | #######1   |  72% \n",
      "lapack-3.6.1         | 3.0 MB    | #######3   |  74% \n",
      "lapack-3.6.1         | 3.0 MB    | #######6   |  77% \n",
      "lapack-3.6.1         | 3.0 MB    | #######8   |  79% \n",
      "lapack-3.6.1         | 3.0 MB    | ########   |  80% \n",
      "lapack-3.6.1         | 3.0 MB    | ########2  |  82% \n",
      "lapack-3.6.1         | 3.0 MB    | ########4  |  85% \n",
      "lapack-3.6.1         | 3.0 MB    | ########6  |  87% \n",
      "lapack-3.6.1         | 3.0 MB    | ########8  |  88% \n",
      "lapack-3.6.1         | 3.0 MB    | #########  |  91% \n",
      "lapack-3.6.1         | 3.0 MB    | #########3 |  93% \n",
      "lapack-3.6.1         | 3.0 MB    | #########4 |  95% \n",
      "lapack-3.6.1         | 3.0 MB    | #########6 |  97% \n",
      "lapack-3.6.1         | 3.0 MB    | #########8 |  99% \n",
      "lapack-3.6.1         | 3.0 MB    | ########## | 100% \n",
      "lapack-3.6.1         | 3.0 MB    | ########## | 100% \n",
      "                                                     \n",
      "\n",
      "\n",
      "Preparing transaction: ...working... done\n",
      "Verifying transaction: ...working... done\n",
      "Executing transaction: ...working... done\n",
      "\n",
      "Note: you may need to restart the kernel to use updated packages.\n"
     ]
    }
   ],
   "source": [
    "#conda install -c \"conda-forge/label/cf202003\" lapack"
   ]
  },
  {
   "cell_type": "code",
   "execution_count": 6,
   "id": "d72a4a74",
   "metadata": {},
   "outputs": [],
   "source": [
    "import numpy as np\n",
    "import scipy.linalg\n",
    "from scipy.linalg.blas import dgemv, ddot, dnrm2"
   ]
  },
  {
   "cell_type": "markdown",
   "id": "91919505",
   "metadata": {},
   "source": [
    "Create a matrix and a vector using NumPy.Their dtype should be double."
   ]
  },
  {
   "cell_type": "code",
   "execution_count": null,
   "id": "f6837913",
   "metadata": {},
   "outputs": [],
   "source": [
    "A = np.array([[1, 2, 3], [4, 5, 6], [7, 8, 9]], dtype=np.double)\n",
    "x = np.array([1, 2, 3], dtype=np.double)"
   ]
  },
  {
   "cell_type": "markdown",
   "id": "65f452f9",
   "metadata": {},
   "source": [
    "Use BLAS functions to perform matrix-vector multiplication"
   ]
  },
  {
   "cell_type": "code",
   "execution_count": null,
   "id": "0f77ebcf",
   "metadata": {},
   "outputs": [],
   "source": [
    "y = np.zeros_like(x)\n",
    "alpha = 1.0\n",
    "beta = 0.0\n",
    "dgemv(alpha, A, x, beta, y)\n",
    "print(y)"
   ]
  },
  {
   "cell_type": "markdown",
   "id": "e4414420",
   "metadata": {},
   "source": [
    "Create two new vectors and calculate their dot product using BLAS functions."
   ]
  },
  {
   "cell_type": "code",
   "execution_count": null,
   "id": "69354f50",
   "metadata": {},
   "outputs": [],
   "source": [
    "a = np.array([1, 2, 3], dtype=np.double)\n",
    "b = np.array([4, 5, 6], dtype=np.double)\n",
    "result = ddot(a, b)\n",
    "print(result)"
   ]
  },
  {
   "cell_type": "markdown",
   "id": "288bcaf5",
   "metadata": {},
   "source": [
    "Compute the L2 norm (Euclidean distance) of a vector using BLAS functions"
   ]
  },
  {
   "cell_type": "code",
   "execution_count": null,
   "id": "82d0652a",
   "metadata": {},
   "outputs": [],
   "source": [
    "a = np.array([1, 2, 3], dtype=np.double)\n",
    "norm = dnrm2(a)\n",
    "print(norm)"
   ]
  },
  {
   "cell_type": "markdown",
   "id": "523a141c",
   "metadata": {},
   "source": [
    "Create a 5x5 symmetric matrix and calculate its eigenvalues and eigenvectors using BLAS functions"
   ]
  },
  {
   "cell_type": "code",
   "execution_count": null,
   "id": "46063527",
   "metadata": {},
   "outputs": [],
   "source": [
    "A = np.array([[1, 2, 3], [2, 4, 5], [3, 5, 6]], dtype=np.double)\n",
    "w, v = dsyev(A)\n",
    "print(\"Eigenvalues:\", w)\n",
    "print(\"Eigenvectors:\", v)"
   ]
  },
  {
   "cell_type": "markdown",
   "id": "b1bfaf15",
   "metadata": {},
   "source": [
    "Given the following matrix `A` and vector `v`: "
   ]
  },
  {
   "cell_type": "code",
   "execution_count": null,
   "id": "2364d2a9",
   "metadata": {},
   "outputs": [],
   "source": [
    "A = np.array([[1, 2, 3], [4, 5, 6], [7, 8, 9]], dtype=np.double)\n",
    "b = np.array([1, 2, 3], dtype=np.double)"
   ]
  },
  {
   "cell_type": "markdown",
   "id": "a2a7d962",
   "metadata": {},
   "source": [
    "Solve the system `Ax = b` using the LU decomposition method and BLAS functions"
   ]
  },
  {
   "cell_type": "code",
   "execution_count": null,
   "id": "3cf312a1",
   "metadata": {},
   "outputs": [],
   "source": [
    "A = np.array([[1, 2, 3], [4, 5, 6], [7, 8, 9]], dtype=np.double)\n",
    "b = np.array([1, 2, 3], dtype=np.double)\n",
    "lu, piv = dgetrf(A)\n",
    "x = dgetri(lu, piv, b)\n",
    "print(x)"
   ]
  },
  {
   "cell_type": "code",
   "execution_count": null,
   "id": "f131baa0",
   "metadata": {},
   "outputs": [],
   "source": []
  }
 ],
 "metadata": {
  "kernelspec": {
   "display_name": "Python 3 (ipykernel)",
   "language": "python",
   "name": "python3"
  },
  "language_info": {
   "codemirror_mode": {
    "name": "ipython",
    "version": 3
   },
   "file_extension": ".py",
   "mimetype": "text/x-python",
   "name": "python",
   "nbconvert_exporter": "python",
   "pygments_lexer": "ipython3",
   "version": "3.9.13"
  }
 },
 "nbformat": 4,
 "nbformat_minor": 5
}
