{
 "cells": [
  {
   "cell_type": "code",
   "execution_count": null,
   "id": "8f5227cc",
   "metadata": {},
   "outputs": [],
   "source": [
    "! python -m pip install mpi4py"
   ]
  },
  {
   "cell_type": "code",
   "execution_count": null,
   "id": "4e45f9bb",
   "metadata": {},
   "outputs": [],
   "source": [
    "from mpi4py import MPI"
   ]
  },
  {
   "cell_type": "code",
   "execution_count": null,
   "id": "4d7b23d5",
   "metadata": {},
   "outputs": [],
   "source": [
    "%%writefile week2.py\n",
    "\n",
    "COMM = MPI.COMM_WORLD\n",
    "RANK = COMM.Get_rank()\n",
    "SIZE = COMM.Get_size()"
   ]
  },
  {
   "cell_type": "markdown",
   "id": "228fafbe",
   "metadata": {},
   "source": [
    "###  Exercise 1"
   ]
  },
  {
   "cell_type": "code",
   "execution_count": null,
   "id": "100a24c2",
   "metadata": {},
   "outputs": [],
   "source": [
    "COMM = MPI.COMM_WORLD\n",
    "RANK = COMM.Get_rank()\n",
    "SIZE = COMM.Get_size()\n",
    "def f1():\n",
    "    return print(\"Hello world\")\n",
    "\n",
    "def f2():\n",
    "    return print(\"my rank is\",RANK,\"the total number of processors is :\",SIZE)\n",
    "\n",
    "def f3():\n",
    "    if RANK==0:\n",
    "        return print(\"my rank is : \",RANK,\"my size is :\",SIZE)\n",
    "\n",
    "#4: we have to use MPI_FINALIZE to terminate the computation."
   ]
  },
  {
   "cell_type": "markdown",
   "id": "a90c772d",
   "metadata": {},
   "source": [
    "### Exercise 2"
   ]
  },
  {
   "cell_type": "code",
   "execution_count": null,
   "id": "b9a9591c",
   "metadata": {},
   "outputs": [],
   "source": [
    "COMM = MPI.COMM_WORLD\n",
    "RANK = COMM.Get_rank()\n",
    "SIZE = COMM.Get_size()\n",
    "while True:\n",
    "    if RANK == 0:\n",
    "        x = int(input())\n",
    "    else: \n",
    "        x = None\n",
    "\n",
    "        x = COMM.bcast(x)\n",
    "    if x< 0 :\n",
    "        break\n",
    "    print(\"rank is\", rank,\"data\",data)"
   ]
  },
  {
   "cell_type": "markdown",
   "id": "4be3a446",
   "metadata": {},
   "source": [
    "### Exercise 3"
   ]
  },
  {
   "cell_type": "code",
   "execution_count": null,
   "id": "048a0b3a",
   "metadata": {},
   "outputs": [],
   "source": [
    "COMM = MPI.COMM_WORLD\n",
    "RANK = COMM.Get_rank()\n",
    "SIZE = COMM.Get_size()\n",
    "while (1):\n",
    "    if RANK == 0:\n",
    "        x = int(input())\n",
    "        except ValueError:\n",
    "            print(\"No integer entered\")\n",
    "            x = -1\n",
    "        COMM.send(x,RANK+1)\n",
    "    else : \n",
    "        x = COMM.recv(source = RANK-1)\n",
    "        if RANK < SIZE - 1:\n",
    "            if x < 0 : \n",
    "                x-=RANK \n",
    "                COMM.send(x +RANK, RANK+1)\n",
    "    if x<0:\n",
    "        break\n",
    "    print(\"rank is\", rank,\"data\",x)"
   ]
  },
  {
   "cell_type": "markdown",
   "id": "fe2bb62a",
   "metadata": {},
   "source": [
    "###  Exercise 4"
   ]
  },
  {
   "cell_type": "code",
   "execution_count": null,
   "id": "02e6e31b",
   "metadata": {},
   "outputs": [],
   "source": [
    "COMM = MPI.COMM_WORLD\n",
    "RANK = COMM.Get_rank()\n",
    "SIZE = COMM.Get_size()\n",
    "\n",
    "#1\n",
    "n,m = int(input())\n",
    "if rank == 0:\n",
    "    A = np.random.rand(n, m)\n",
    "else:\n",
    "    A = None\n",
    "A = COMM.bcast(A, root=0)\n",
    "print(\"Rank of the matrix A is\",RANK )\n",
    "\n",
    "\n",
    "#2 \n",
    "counts = [n // SIZE] * SIZE\n",
    "remainder = n % SIZE\n",
    "for i in range(remainder):\n",
    "    counts[i] += 1\n",
    "displs = [sum(counts[:i]) for i in range(SIZE)]\n",
    "recv_buf = np.empty((counts[RANK], m), dtype=np.float64)\n",
    "comm.Scatterv([A, counts, displs, MPI.DOUBLE], recv_buf, root=0)\n",
    "\n",
    "\n",
    "#3,4,5\n",
    "# calculate the number of rows to send to each processor\n",
    "counts = [n // 2, n // 2, (n // 2) + (n % 2), (n // 2) + (n % 2)]\n",
    "displs_1 = [0, m * (n // 2), m * ((n // 2) + (n % 2)), m * (n // 2) + (m // 2)]\n",
    "\n",
    "blocklen = m // 2\n",
    "stride = m\n",
    "subarray_type = MPI.DOUBLE.Create_subarray((n, m), (counts[RANK], blocklen), (displs_1[RANK] // m, stride))\n",
    "subarray_type.Commit()\n",
    "\n",
    "if RANK == 0:\n",
    "    COMM.Send([A, 1, subarray_type], dest=1)\n",
    "    COMM.Send([A, 2, subarray_type], dest=2)\n",
    "    COMM.Send([A, 3, subarray_type], dest=3)\n",
    "elif RANK in (1, 2, 3):\n",
    "    COMM.Recv(recv_buf, source=0)\n",
    "\n",
    "# print the part of the matrix received by each processor\n",
    "if RANK in (1, 2, 3):\n",
    "    print(\"Rank\",RANK,\" Matrix A received:\" , str(recv_buf))"
   ]
  },
  {
   "cell_type": "markdown",
   "id": "f0ed1d54",
   "metadata": {},
   "source": [
    "###  Exercise 5"
   ]
  },
  {
   "cell_type": "code",
   "execution_count": null,
   "id": "4fafa3e1",
   "metadata": {},
   "outputs": [],
   "source": [
    "# in MatrixVectorMult.py file"
   ]
  },
  {
   "cell_type": "markdown",
   "id": "b1ee4c81",
   "metadata": {},
   "source": [
    "###  Exercise 6"
   ]
  },
  {
   "cell_type": "code",
   "execution_count": null,
   "id": "af3e2352",
   "metadata": {},
   "outputs": [],
   "source": [
    "from multiprocessing import Pool\n",
    "def f(n):\n",
    "    while True:\n",
    "        if (RANK == 0) :\n",
    "            print(\"Enter the number of intervals: (0 quits) \")\n",
    "        COMM.Bcast(&n, 1, 0, MPI.COMM_WORLD)\n",
    "        h   = 1.0 / n\n",
    "        sum = 0\n",
    "        for (i = RANK + 1; i <= n; i += SIZE):\n",
    "            x = h * (i - 0.5)\n",
    "            sum += 4.0 / (1.0 + x*x)\n",
    "            my_pi = h * sum;\n",
    "        COMM.Reduce(my_pi, pi, 1, 0, MPI.COMM_WORLD)\n",
    "        if (RANK == 0):\n",
    "            printf(\"pi is approximately\",pi)\n",
    "        COMM.Finalize()\n",
    "    return 0\n",
    "\n",
    "if __name__ == '__main__':\n",
    "    with Pool(5) as p:\n",
    "        print(p.map(f, 840))\n",
    "        #as input : start = 0 and end = 1\n"
   ]
  },
  {
   "cell_type": "code",
   "execution_count": null,
   "id": "ab656064",
   "metadata": {},
   "outputs": [],
   "source": [
    "def calc_pi(x):    \n",
    "    pi = np.zeros(1)\n",
    "\n",
    "    COMM = MPI.COMM_WORLD\n",
    "    RANK = COMM.Get_rank()\n",
    "    SIZE = COMM.Get_size()\n",
    "\n",
    "    nsamples = int(x/SIZE)\n",
    "    random.seed(RANK)\n",
    "    my_pi = np.array(f(nsamples))\n",
    "\n",
    "    COMM.Reduce(my_pi, pi, op=MPI.SUM, root=0)\n",
    "    return pi/SIZE\n",
    "\n",
    "\n",
    "if __name__ == '__main__':\n",
    "    samples = util.get_sample_count()\n",
    "\n",
    "    COMM = MPI.COMM_WORLD\n",
    "    RANK = COMM.Get_rank()\n",
    "\n",
    "    start_time = MPI.Wtime()\n",
    "\n",
    "    pi = calc_pi(x)\n",
    "\n",
    "    end_time = MPI.Wtime()\n",
    "\n",
    "    if RANK == 0:\n",
    "        util.output(x, pi, start_time, end_time)"
   ]
  }
 ],
 "metadata": {
  "kernelspec": {
   "display_name": "Python 3 (ipykernel)",
   "language": "python",
   "name": "python3"
  },
  "language_info": {
   "codemirror_mode": {
    "name": "ipython",
    "version": 3
   },
   "file_extension": ".py",
   "mimetype": "text/x-python",
   "name": "python",
   "nbconvert_exporter": "python",
   "pygments_lexer": "ipython3",
   "version": "3.9.13"
  }
 },
 "nbformat": 4,
 "nbformat_minor": 5
}
