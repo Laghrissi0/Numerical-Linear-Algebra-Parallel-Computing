{
 "cells": [
  {
   "cell_type": "markdown",
   "id": "aea03da3",
   "metadata": {},
   "source": [
    "In this assignement, feel free to use the `sparse` module from `scipy`."
   ]
  },
  {
   "cell_type": "markdown",
   "id": "2df42bcc",
   "metadata": {},
   "source": [
    "Use the cell below for your imports."
   ]
  },
  {
   "cell_type": "code",
   "execution_count": 7,
   "id": "e9644e55",
   "metadata": {},
   "outputs": [],
   "source": [
    "import numpy as np\n",
    "from scipy.sparse import coo_matrix\n",
    "from scipy.sparse import csr_matrix\n",
    "from numpy.linalg import inv"
   ]
  },
  {
   "cell_type": "markdown",
   "id": "8948a816",
   "metadata": {},
   "source": [
    "implement the function `mat_mul_coo` that takes two sparse matrices in `coo` and returns their product."
   ]
  },
  {
   "cell_type": "code",
   "execution_count": 8,
   "id": "6047ee0e",
   "metadata": {},
   "outputs": [],
   "source": [
    "def mat_mul_coo(matrix1, matrix2):\n",
    "    if matrix1.shape != matrix2.shape:\n",
    "        raise ValueError(\"The number of columns in matrix 1 must match the number of rows in matrix 2\")\n",
    "    data = []\n",
    "    row = []\n",
    "    col = []\n",
    "    #I will Convert the COO format of matrix B to CSR format.\n",
    "    matrix2 = matrix2.tocsr()\n",
    " \n",
    "    for i in range(matrix1.shape[0]):\n",
    "        mat1_row_indices = matrix1.row[matrix1.row == i]\n",
    "        mat1_row_values = matrix1.data[matrix1.row == i]\n",
    "        for j in range(matrix2.shape[1]):\n",
    "            mat2_col_indices = matrix2.indices[matrix2.indptr[j]:matrix2.indptr[j+1]]\n",
    "            mat2_col_values = matrix2.data[matrix2.indptr[j]:matrix2.indptr[j+1]]\n",
    "            dot_prod = np.sum(mat1_row_values[mat2_col_indices] * mat2_col_values)\n",
    "            if dot_prod != 0:\n",
    "                data.append(dot_prod)\n",
    "                row.append(i)\n",
    "                col.append(j)\n",
    "    C = coo_matrix((data, (row, col)), shape=(matrix1.shape[0], matrix2.shape[1]))\n",
    "    return C"
   ]
  },
  {
   "cell_type": "markdown",
   "id": "4a626dec",
   "metadata": {},
   "source": [
    "implement the function `mat_mul_csr` that takes two sparse matrices in `csr` format and returns their product."
   ]
  },
  {
   "cell_type": "code",
   "execution_count": 9,
   "id": "c2e56fbd",
   "metadata": {},
   "outputs": [],
   "source": [
    "def mat_mul_csr(matrix1, matrix2):\n",
    "    assert matrix1.shape[1] == matrix2.shape[0]\n",
    "\n",
    "    # Initialize the result matrix with zeros\n",
    "    C = csr_matrix((matrix1.shape[0], matrix2.shape[1]), dtype=np.float32)\n",
    "    \n",
    "    for i in range(matrix1.shape[0]):\n",
    "        for j in range(matrix2.shape[1]):\n",
    "            dot_product = 0\n",
    "            for k in range(matrix1.indptr[i], matrix1.indptr[i+1]):\n",
    "                dot_product += matrix1.data[k] * matrix2[matrix1.indices[k], j]\n",
    "            C[i, j] = dot_product\n",
    "            \n",
    "    return C       "
   ]
  },
  {
   "cell_type": "markdown",
   "id": "9592a90b",
   "metadata": {},
   "source": [
    "implement a function `solve_lin_sys` that takes a matrix `A` in `csr` format and a vector `b` as a numpy array and solves the system `Ax = b`."
   ]
  },
  {
   "cell_type": "code",
   "execution_count": 10,
   "id": "cf5f5b9d",
   "metadata": {},
   "outputs": [],
   "source": [
    "#the function of the product of a csr maatrix with a vector\n",
    "def mat_vec_coo(A, x):\n",
    "\n",
    "    if A.shape[1] != x.shape[0]:\n",
    "        raise ValueError(\"dimension mismatch\")\n",
    "    \n",
    "    res = np.zeros(x.shape[0], dtype=np.int64)\n",
    "    for i in range(A.shape[0]):\n",
    "        for j in range(A.indptr[i],A.indptr[i+1]):\n",
    "            res[i] += A.data[j] * x[A.indices[j]]\n",
    "    \n",
    "    return res"
   ]
  },
  {
   "cell_type": "code",
   "execution_count": 11,
   "id": "00edeb4c",
   "metadata": {},
   "outputs": [],
   "source": [
    "def solve_lin_sys(A,b):\n",
    "    n = int(input())\n",
    "    data = []\n",
    "    indices = []\n",
    "    indptr = []\n",
    "    x = []\n",
    "    A = csr_matrix((data, indices, indptr), shape=(n,n))\n",
    "    det_A = np.linalg.det(A)\n",
    "\n",
    "    #we have to check either A is invertible or not\n",
    "    if det_A != 0:\n",
    "        print(\"A is invertible\")\n",
    "        #let's compute the inverse\n",
    "        A_dense = A.toarray()\n",
    "        A_inv_dense = inv(A_dense)\n",
    "        A_inv = csr_matrix(A_inv_dense)\n",
    "        #to solve Ax=b gives x = A_inv*b\n",
    "        #it's multiplication of csr matrix with a vector \n",
    "        x = mat_vec_coo(A_inv, b)\n",
    "\n",
    "\n",
    "    else:\n",
    "        print(\"A is not invertible\")\n",
    "    return x"
   ]
  }
 ],
 "metadata": {
  "kernelspec": {
   "display_name": "Python 3 (ipykernel)",
   "language": "python",
   "name": "python3"
  },
  "language_info": {
   "codemirror_mode": {
    "name": "ipython",
    "version": 3
   },
   "file_extension": ".py",
   "mimetype": "text/x-python",
   "name": "python",
   "nbconvert_exporter": "python",
   "pygments_lexer": "ipython3",
   "version": "3.9.13"
  }
 },
 "nbformat": 4,
 "nbformat_minor": 5
}
